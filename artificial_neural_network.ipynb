{
  "nbformat": 4,
  "nbformat_minor": 0,
  "metadata": {
    "colab": {
      "provenance": []
    },
    "kernelspec": {
      "name": "python3",
      "display_name": "Python 3"
    }
  },
  "cells": [
    {
      "cell_type": "markdown",
      "metadata": {
        "id": "3cbb7fRy-eyr"
      },
      "source": [
        "# Artificial Neural Network"
      ]
    },
    {
      "cell_type": "markdown",
      "metadata": {
        "id": "8sNDnxE2-pwE"
      },
      "source": [
        "### Importing the libraries"
      ]
    },
    {
      "cell_type": "code",
      "source": [
        "import numpy as np\n",
        "import pandas as pd\n",
        "import tensorflow as tf"
      ],
      "metadata": {
        "id": "7NwpU5k1dm28"
      },
      "execution_count": null,
      "outputs": []
    },
    {
      "cell_type": "code",
      "source": [
        "tf.__version__"
      ],
      "metadata": {
        "colab": {
          "base_uri": "https://localhost:8080/",
          "height": 36
        },
        "id": "LG5kN-D-dshu",
        "outputId": "7d2a194e-ca36-40ff-b7b5-77a03211870c"
      },
      "execution_count": null,
      "outputs": [
        {
          "output_type": "execute_result",
          "data": {
            "text/plain": [
              "'2.14.0'"
            ],
            "application/vnd.google.colaboratory.intrinsic+json": {
              "type": "string"
            }
          },
          "metadata": {},
          "execution_count": 2
        }
      ]
    },
    {
      "cell_type": "markdown",
      "metadata": {
        "id": "AG3FQEch-yuA"
      },
      "source": [
        "## Part 1 - Data Preprocessing"
      ]
    },
    {
      "cell_type": "markdown",
      "metadata": {
        "id": "-4zq8Mza_D9O"
      },
      "source": [
        "### Importing the dataset"
      ]
    },
    {
      "cell_type": "code",
      "source": [
        "dataset = pd.read_excel('Folds5x2_pp.xlsx')\n",
        "X = dataset.iloc[:, :-1].values\n",
        "y = dataset.iloc[:, -1].values"
      ],
      "metadata": {
        "id": "UW4nwleveV2l"
      },
      "execution_count": null,
      "outputs": []
    },
    {
      "cell_type": "code",
      "source": [
        "print(X)"
      ],
      "metadata": {
        "colab": {
          "base_uri": "https://localhost:8080/"
        },
        "id": "W-IZJVnFffm0",
        "outputId": "46566a64-8a2e-4afd-fa87-de173abdf943"
      },
      "execution_count": null,
      "outputs": [
        {
          "output_type": "stream",
          "name": "stdout",
          "text": [
            "[[  14.96   41.76 1024.07   73.17]\n",
            " [  25.18   62.96 1020.04   59.08]\n",
            " [   5.11   39.4  1012.16   92.14]\n",
            " ...\n",
            " [  31.32   74.33 1012.92   36.48]\n",
            " [  24.48   69.45 1013.86   62.39]\n",
            " [  21.6    62.52 1017.23   67.87]]\n"
          ]
        }
      ]
    },
    {
      "cell_type": "code",
      "source": [
        "print(y)"
      ],
      "metadata": {
        "colab": {
          "base_uri": "https://localhost:8080/"
        },
        "id": "Pie9OVrdfg6s",
        "outputId": "82230493-a26f-4f53-90ab-52e8b3a8e8ca"
      },
      "execution_count": null,
      "outputs": [
        {
          "output_type": "stream",
          "name": "stdout",
          "text": [
            "[463.26 444.37 488.56 ... 429.57 435.74 453.28]\n"
          ]
        }
      ]
    },
    {
      "cell_type": "markdown",
      "metadata": {
        "id": "VC6omXel_Up0"
      },
      "source": [
        "### Splitting the dataset into the Training set and Test set"
      ]
    },
    {
      "cell_type": "code",
      "source": [
        "from sklearn.model_selection import train_test_split\n",
        "X_train, X_test, y_train, y_test = train_test_split(X, y, test_size = 0.2, random_state = 0)"
      ],
      "metadata": {
        "id": "vTG1NbWcf0_a"
      },
      "execution_count": null,
      "outputs": []
    },
    {
      "cell_type": "markdown",
      "metadata": {
        "id": "_mSLlAT9_eyI"
      },
      "source": [
        "## Part 2 - Building the ANN"
      ]
    },
    {
      "cell_type": "markdown",
      "metadata": {
        "id": "CsBULd_f_wLY"
      },
      "source": [
        "### Initializing the ANN"
      ]
    },
    {
      "cell_type": "code",
      "source": [
        "ann = tf.keras.models.Sequential()"
      ],
      "metadata": {
        "id": "sKEIxWDMgRQe"
      },
      "execution_count": null,
      "outputs": []
    },
    {
      "cell_type": "markdown",
      "metadata": {
        "id": "iitAFJS_ABUn"
      },
      "source": [
        "### Adding the input layer and the first hidden layer"
      ]
    },
    {
      "cell_type": "code",
      "source": [
        "ann.add(tf.keras.layers.Dense(units=6, activation='relu'))"
      ],
      "metadata": {
        "id": "57sxVti0gXQR"
      },
      "execution_count": null,
      "outputs": []
    },
    {
      "cell_type": "markdown",
      "metadata": {
        "id": "-lb4kK_wAKbs"
      },
      "source": [
        "### Adding the second hidden layer"
      ]
    },
    {
      "cell_type": "code",
      "source": [
        "ann.add(tf.keras.layers.Dense(units=6, activation='relu'))"
      ],
      "metadata": {
        "id": "qnVu8t6Agn99"
      },
      "execution_count": null,
      "outputs": []
    },
    {
      "cell_type": "markdown",
      "metadata": {
        "id": "jwMOmKb3AdBY"
      },
      "source": [
        "### Adding the output layer"
      ]
    },
    {
      "cell_type": "code",
      "source": [
        "ann.add(tf.keras.layers.Dense(units=1))"
      ],
      "metadata": {
        "id": "dN96PAKYgpUw"
      },
      "execution_count": null,
      "outputs": []
    },
    {
      "cell_type": "markdown",
      "metadata": {
        "id": "fq7e4fF6A1yy"
      },
      "source": [
        "## Part 3 - Training the ANN"
      ]
    },
    {
      "cell_type": "markdown",
      "metadata": {
        "id": "qDeylAs2An25"
      },
      "source": [
        "### Compiling the ANN"
      ]
    },
    {
      "cell_type": "code",
      "source": [
        "ann.compile(optimizer = 'adam', loss = 'mean_squared_error')"
      ],
      "metadata": {
        "id": "BJNVsLHdhMWv"
      },
      "execution_count": null,
      "outputs": []
    },
    {
      "cell_type": "markdown",
      "metadata": {
        "id": "YjVuiybYOo7r"
      },
      "source": [
        "### Training the ANN model on the Training set"
      ]
    },
    {
      "cell_type": "code",
      "source": [
        "ann.fit(X_train, y_train, batch_size = 32, epochs = 100)"
      ],
      "metadata": {
        "colab": {
          "base_uri": "https://localhost:8080/"
        },
        "id": "vJb4ayGJiDHq",
        "outputId": "1bb944cd-d523-4c09-8de4-c6fa57d73d89"
      },
      "execution_count": null,
      "outputs": [
        {
          "output_type": "stream",
          "name": "stdout",
          "text": [
            "Epoch 1/100\n",
            "240/240 [==============================] - 1s 2ms/step - loss: 4924.2007\n",
            "Epoch 2/100\n",
            "240/240 [==============================] - 1s 2ms/step - loss: 295.1609\n",
            "Epoch 3/100\n",
            "240/240 [==============================] - 0s 2ms/step - loss: 236.4363\n",
            "Epoch 4/100\n",
            "240/240 [==============================] - 1s 2ms/step - loss: 183.7339\n",
            "Epoch 5/100\n",
            "240/240 [==============================] - 0s 2ms/step - loss: 139.6808\n",
            "Epoch 6/100\n",
            "240/240 [==============================] - 0s 2ms/step - loss: 106.3667\n",
            "Epoch 7/100\n",
            "240/240 [==============================] - 1s 3ms/step - loss: 81.4032\n",
            "Epoch 8/100\n",
            "240/240 [==============================] - 1s 3ms/step - loss: 65.1501\n",
            "Epoch 9/100\n",
            "240/240 [==============================] - 1s 3ms/step - loss: 55.0084\n",
            "Epoch 10/100\n",
            "240/240 [==============================] - 1s 3ms/step - loss: 48.2294\n",
            "Epoch 11/100\n",
            "240/240 [==============================] - 0s 2ms/step - loss: 44.5309\n",
            "Epoch 12/100\n",
            "240/240 [==============================] - 0s 2ms/step - loss: 42.0441\n",
            "Epoch 13/100\n",
            "240/240 [==============================] - 0s 2ms/step - loss: 40.4218\n",
            "Epoch 14/100\n",
            "240/240 [==============================] - 0s 2ms/step - loss: 39.1953\n",
            "Epoch 15/100\n",
            "240/240 [==============================] - 1s 2ms/step - loss: 37.8383\n",
            "Epoch 16/100\n",
            "240/240 [==============================] - 1s 2ms/step - loss: 36.5494\n",
            "Epoch 17/100\n",
            "240/240 [==============================] - 1s 2ms/step - loss: 36.9586\n",
            "Epoch 18/100\n",
            "240/240 [==============================] - 1s 2ms/step - loss: 35.3528\n",
            "Epoch 19/100\n",
            "240/240 [==============================] - 1s 2ms/step - loss: 33.7721\n",
            "Epoch 20/100\n",
            "240/240 [==============================] - 0s 2ms/step - loss: 33.6844\n",
            "Epoch 21/100\n",
            "240/240 [==============================] - 1s 2ms/step - loss: 32.8818\n",
            "Epoch 22/100\n",
            "240/240 [==============================] - 1s 2ms/step - loss: 32.1916\n",
            "Epoch 23/100\n",
            "240/240 [==============================] - 1s 2ms/step - loss: 31.4560\n",
            "Epoch 24/100\n",
            "240/240 [==============================] - 0s 2ms/step - loss: 29.9957\n",
            "Epoch 25/100\n",
            "240/240 [==============================] - 0s 2ms/step - loss: 30.8611\n",
            "Epoch 26/100\n",
            "240/240 [==============================] - 0s 2ms/step - loss: 29.1554\n",
            "Epoch 27/100\n",
            "240/240 [==============================] - 1s 2ms/step - loss: 29.7825\n",
            "Epoch 28/100\n",
            "240/240 [==============================] - 0s 2ms/step - loss: 27.9890\n",
            "Epoch 29/100\n",
            "240/240 [==============================] - 1s 2ms/step - loss: 28.6857\n",
            "Epoch 30/100\n",
            "240/240 [==============================] - 1s 2ms/step - loss: 28.5827\n",
            "Epoch 31/100\n",
            "240/240 [==============================] - 1s 3ms/step - loss: 28.0843\n",
            "Epoch 32/100\n",
            "240/240 [==============================] - 1s 3ms/step - loss: 27.4069\n",
            "Epoch 33/100\n",
            "240/240 [==============================] - 1s 3ms/step - loss: 27.2361\n",
            "Epoch 34/100\n",
            "240/240 [==============================] - 1s 3ms/step - loss: 27.3335\n",
            "Epoch 35/100\n",
            "240/240 [==============================] - 0s 2ms/step - loss: 26.9547\n",
            "Epoch 36/100\n",
            "240/240 [==============================] - 0s 2ms/step - loss: 27.4782\n",
            "Epoch 37/100\n",
            "240/240 [==============================] - 0s 2ms/step - loss: 27.2402\n",
            "Epoch 38/100\n",
            "240/240 [==============================] - 0s 2ms/step - loss: 27.7845\n",
            "Epoch 39/100\n",
            "240/240 [==============================] - 0s 2ms/step - loss: 28.6930\n",
            "Epoch 40/100\n",
            "240/240 [==============================] - 1s 2ms/step - loss: 27.0572\n",
            "Epoch 41/100\n",
            "240/240 [==============================] - 0s 2ms/step - loss: 26.8237\n",
            "Epoch 42/100\n",
            "240/240 [==============================] - 1s 2ms/step - loss: 27.7883\n",
            "Epoch 43/100\n",
            "240/240 [==============================] - 1s 2ms/step - loss: 27.1904\n",
            "Epoch 44/100\n",
            "240/240 [==============================] - 1s 2ms/step - loss: 27.0859\n",
            "Epoch 45/100\n",
            "240/240 [==============================] - 0s 2ms/step - loss: 28.1144\n",
            "Epoch 46/100\n",
            "240/240 [==============================] - 0s 2ms/step - loss: 27.0839\n",
            "Epoch 47/100\n",
            "240/240 [==============================] - 0s 2ms/step - loss: 27.8383\n",
            "Epoch 48/100\n",
            "240/240 [==============================] - 0s 2ms/step - loss: 27.4595\n",
            "Epoch 49/100\n",
            "240/240 [==============================] - 0s 2ms/step - loss: 27.9059\n",
            "Epoch 50/100\n",
            "240/240 [==============================] - 0s 2ms/step - loss: 26.9641\n",
            "Epoch 51/100\n",
            "240/240 [==============================] - 0s 2ms/step - loss: 27.2129\n",
            "Epoch 52/100\n",
            "240/240 [==============================] - 0s 2ms/step - loss: 28.2541\n",
            "Epoch 53/100\n",
            "240/240 [==============================] - 0s 2ms/step - loss: 26.6093\n",
            "Epoch 54/100\n",
            "240/240 [==============================] - 0s 2ms/step - loss: 28.1178\n",
            "Epoch 55/100\n",
            "240/240 [==============================] - 1s 3ms/step - loss: 27.4035\n",
            "Epoch 56/100\n",
            "240/240 [==============================] - 1s 3ms/step - loss: 27.3320\n",
            "Epoch 57/100\n",
            "240/240 [==============================] - 1s 3ms/step - loss: 27.3617\n",
            "Epoch 58/100\n",
            "240/240 [==============================] - 1s 3ms/step - loss: 27.0417\n",
            "Epoch 59/100\n",
            "240/240 [==============================] - 0s 2ms/step - loss: 27.9759\n",
            "Epoch 60/100\n",
            "240/240 [==============================] - 0s 2ms/step - loss: 27.0059\n",
            "Epoch 61/100\n",
            "240/240 [==============================] - 0s 2ms/step - loss: 27.1293\n",
            "Epoch 62/100\n",
            "240/240 [==============================] - 0s 2ms/step - loss: 27.0148\n",
            "Epoch 63/100\n",
            "240/240 [==============================] - 0s 2ms/step - loss: 27.6783\n",
            "Epoch 64/100\n",
            "240/240 [==============================] - 0s 2ms/step - loss: 27.0474\n",
            "Epoch 65/100\n",
            "240/240 [==============================] - 0s 2ms/step - loss: 27.7657\n",
            "Epoch 66/100\n",
            "240/240 [==============================] - 1s 2ms/step - loss: 27.8063\n",
            "Epoch 67/100\n",
            "240/240 [==============================] - 1s 2ms/step - loss: 26.8558\n",
            "Epoch 68/100\n",
            "240/240 [==============================] - 0s 2ms/step - loss: 27.0889\n",
            "Epoch 69/100\n",
            "240/240 [==============================] - 0s 2ms/step - loss: 27.1598\n",
            "Epoch 70/100\n",
            "240/240 [==============================] - 0s 2ms/step - loss: 27.3539\n",
            "Epoch 71/100\n",
            "240/240 [==============================] - 0s 2ms/step - loss: 27.2446\n",
            "Epoch 72/100\n",
            "240/240 [==============================] - 1s 2ms/step - loss: 27.0285\n",
            "Epoch 73/100\n",
            "240/240 [==============================] - 0s 2ms/step - loss: 27.2194\n",
            "Epoch 74/100\n",
            "240/240 [==============================] - 1s 2ms/step - loss: 27.4032\n",
            "Epoch 75/100\n",
            "240/240 [==============================] - 0s 2ms/step - loss: 26.7277\n",
            "Epoch 76/100\n",
            "240/240 [==============================] - 0s 2ms/step - loss: 29.9068\n",
            "Epoch 77/100\n",
            "240/240 [==============================] - 0s 2ms/step - loss: 27.0517\n",
            "Epoch 78/100\n",
            "240/240 [==============================] - 0s 2ms/step - loss: 27.2191\n",
            "Epoch 79/100\n",
            "240/240 [==============================] - 1s 2ms/step - loss: 26.9826\n",
            "Epoch 80/100\n",
            "240/240 [==============================] - 1s 3ms/step - loss: 26.8156\n",
            "Epoch 81/100\n",
            "240/240 [==============================] - 1s 3ms/step - loss: 27.5684\n",
            "Epoch 82/100\n",
            "240/240 [==============================] - 1s 3ms/step - loss: 26.8585\n",
            "Epoch 83/100\n",
            "240/240 [==============================] - 1s 3ms/step - loss: 26.9277\n",
            "Epoch 84/100\n",
            "240/240 [==============================] - 0s 2ms/step - loss: 27.0422\n",
            "Epoch 85/100\n",
            "240/240 [==============================] - 0s 2ms/step - loss: 26.7464\n",
            "Epoch 86/100\n",
            "240/240 [==============================] - 0s 2ms/step - loss: 27.2732\n",
            "Epoch 87/100\n",
            "240/240 [==============================] - 0s 2ms/step - loss: 26.4044\n",
            "Epoch 88/100\n",
            "240/240 [==============================] - 0s 2ms/step - loss: 26.6455\n",
            "Epoch 89/100\n",
            "240/240 [==============================] - 0s 2ms/step - loss: 26.7055\n",
            "Epoch 90/100\n",
            "240/240 [==============================] - 0s 2ms/step - loss: 27.3482\n",
            "Epoch 91/100\n",
            "240/240 [==============================] - 0s 2ms/step - loss: 27.3817\n",
            "Epoch 92/100\n",
            "240/240 [==============================] - 1s 3ms/step - loss: 26.8870\n",
            "Epoch 93/100\n",
            "240/240 [==============================] - 1s 3ms/step - loss: 27.7168\n",
            "Epoch 94/100\n",
            "240/240 [==============================] - 1s 3ms/step - loss: 26.3814\n",
            "Epoch 95/100\n",
            "240/240 [==============================] - 1s 3ms/step - loss: 27.2617\n",
            "Epoch 96/100\n",
            "240/240 [==============================] - 0s 2ms/step - loss: 26.6214\n",
            "Epoch 97/100\n",
            "240/240 [==============================] - 0s 2ms/step - loss: 27.6673\n",
            "Epoch 98/100\n",
            "240/240 [==============================] - 0s 2ms/step - loss: 26.7148\n",
            "Epoch 99/100\n",
            "240/240 [==============================] - 0s 2ms/step - loss: 27.1817\n",
            "Epoch 100/100\n",
            "240/240 [==============================] - 0s 2ms/step - loss: 27.5957\n"
          ]
        },
        {
          "output_type": "execute_result",
          "data": {
            "text/plain": [
              "<keras.src.callbacks.History at 0x7bebdffa51b0>"
            ]
          },
          "metadata": {},
          "execution_count": 12
        }
      ]
    },
    {
      "cell_type": "markdown",
      "metadata": {
        "id": "0H0zKKNEBLD5"
      },
      "source": [
        "### Predicting the results of the Test set"
      ]
    },
    {
      "cell_type": "code",
      "source": [
        "y_pred = ann.predict(X_test)\n",
        "np.set_printoptions(precision=2)\n",
        "print(np.concatenate((y_pred.reshape(len(y_pred), 1), y_test.reshape(len(y_test), 1)), 1))"
      ],
      "metadata": {
        "colab": {
          "base_uri": "https://localhost:8080/"
        },
        "id": "tOpdKQWfigaO",
        "outputId": "855172ff-f1a0-4462-d9e4-fcd0323b3e68"
      },
      "execution_count": null,
      "outputs": [
        {
          "output_type": "stream",
          "name": "stdout",
          "text": [
            "60/60 [==============================] - 0s 2ms/step\n",
            "[[432.45 431.23]\n",
            " [463.82 460.01]\n",
            " [466.84 461.14]\n",
            " ...\n",
            " [474.64 473.26]\n",
            " [440.9  438.  ]\n",
            " [460.32 463.28]]\n"
          ]
        }
      ]
    }
  ]
}